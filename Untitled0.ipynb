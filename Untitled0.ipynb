{
  "nbformat": 4,
  "nbformat_minor": 0,
  "metadata": {
    "colab": {
      "provenance": [],
      "include_colab_link": true
    },
    "kernelspec": {
      "name": "python3",
      "display_name": "Python 3"
    },
    "language_info": {
      "name": "python"
    }
  },
  "cells": [
    {
      "cell_type": "markdown",
      "metadata": {
        "id": "view-in-github",
        "colab_type": "text"
      },
      "source": [
        "<a href=\"https://colab.research.google.com/github/MariaSandraMartinez/Prep-Course/blob/main/Untitled0.ipynb\" target=\"_parent\"><img src=\"https://colab.research.google.com/assets/colab-badge.svg\" alt=\"Open In Colab\"/></a>"
      ]
    },
    {
      "cell_type": "code",
      "execution_count": null,
      "metadata": {
        "colab": {
          "base_uri": "https://localhost:8080/"
        },
        "id": "f2d_aCESDoWY",
        "outputId": "298cd88e-cf3b-4818-9712-a0eeedef5d9c"
      },
      "outputs": [
        {
          "output_type": "stream",
          "name": "stdout",
          "text": [
            "Digita un número42\n",
            "Digitaste el número  42\n",
            "Acertaste!\n"
          ]
        }
      ],
      "source": [
        "numero_secreto = 42\n",
        "entrada = int(input(\"Digita un número\"))\n",
        "print(\"Digitaste el número \", entrada)\n",
        "if(numero_secreto == entrada):\n",
        "    print(\"Acertaste!\")\n",
        "else:\n",
        "    print(\"El número no corresponde.\")"
      ]
    },
    {
      "cell_type": "markdown",
      "source": [
        "**Proy python con colab**"
      ],
      "metadata": {
        "id": "bZ-QqfWoLkpC"
      }
    },
    {
      "cell_type": "code",
      "source": [
        "\n",
        "numero1 = 10\n",
        "numero2 = \"20\"\n",
        "producto = numero1 * numero2\n",
        "print(producto)"
      ],
      "metadata": {
        "colab": {
          "base_uri": "https://localhost:8080/"
        },
        "id": "9TKnzq17LZ5w",
        "outputId": "2359e434-8717-4992-cfbc-91088a67c085"
      },
      "execution_count": null,
      "outputs": [
        {
          "output_type": "stream",
          "name": "stdout",
          "text": [
            "********************************\n",
            "Adivina el numero\n",
            "********************************\n",
            "20202020202020202020\n"
          ]
        }
      ]
    },
    {
      "cell_type": "code",
      "source": [
        "print(\"**********************\")\n",
        "print(\"  Adivina el numero\")\n",
        "print(\"**********************\")\n",
        "\n",
        "numero_secreto = int(random.random()*1000) #o round()\n",
        "entrada_str = input('Digita un número: ')\n",
        "entrada = int(entrada_str)\n",
        "print('El número que digitaste: ',entrada)\n",
        "\n",
        "if (numero_secreto == entrada):\n",
        "  print('¡Acertaste!')\n",
        "else:\n",
        "  print(\"El número no corresponde.\")\n",
        "\n",
        "print('El juego ha concluído!')"
      ],
      "metadata": {
        "colab": {
          "base_uri": "https://localhost:8080/"
        },
        "id": "LB2L6lYEUF1o",
        "outputId": "f911e7fb-b967-4813-c837-47f729e2982a"
      },
      "execution_count": null,
      "outputs": [
        {
          "output_type": "stream",
          "name": "stdout",
          "text": [
            "**********************\n",
            "  Adivina el numero\n",
            "**********************\n",
            "Digita un número: 55\n",
            "El número que digitaste:  55\n",
            "¡Acertaste!\n",
            "El juego ha concluído!\n"
          ]
        }
      ]
    }
  ]
}